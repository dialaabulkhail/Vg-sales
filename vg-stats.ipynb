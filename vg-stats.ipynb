{
 "cells": [
  {
   "cell_type": "markdown",
   "id": "bf8ea079",
   "metadata": {
    "_cell_guid": "b1076dfc-b9ad-4769-8c92-a6c4dae69d19",
    "_uuid": "8f2839f25d086af736a60e9eeb907d3b93b6e0e5",
    "papermill": {
     "duration": 0.024093,
     "end_time": "2022-03-30T08:53:01.044205",
     "exception": false,
     "start_time": "2022-03-30T08:53:01.020112",
     "status": "completed"
    },
    "tags": []
   },
   "source": [
    "# Video game sales\n",
    "## Diala Abul-Khail\n",
    "### 2022-03-29"
   ]
  },
  {
   "cell_type": "code",
   "execution_count": 1,
   "id": "e92f6d6c",
   "metadata": {
    "execution": {
     "iopub.execute_input": "2022-03-30T08:53:01.094161Z",
     "iopub.status.busy": "2022-03-30T08:53:01.092931Z",
     "iopub.status.idle": "2022-03-30T08:53:01.102542Z",
     "shell.execute_reply": "2022-03-30T08:53:01.103086Z",
     "shell.execute_reply.started": "2022-03-30T08:52:10.944805Z"
    },
    "papermill": {
     "duration": 0.03623,
     "end_time": "2022-03-30T08:53:01.103464",
     "exception": false,
     "start_time": "2022-03-30T08:53:01.067234",
     "status": "completed"
    },
    "tags": []
   },
   "outputs": [],
   "source": [
    "import numpy as np\n",
    "import pandas as pd"
   ]
  },
  {
   "cell_type": "code",
   "execution_count": 2,
   "id": "f636f6a9",
   "metadata": {
    "execution": {
     "iopub.execute_input": "2022-03-30T08:53:01.152384Z",
     "iopub.status.busy": "2022-03-30T08:53:01.151715Z",
     "iopub.status.idle": "2022-03-30T08:53:01.283594Z",
     "shell.execute_reply": "2022-03-30T08:53:01.284190Z",
     "shell.execute_reply.started": "2022-03-30T08:52:11.112248Z"
    },
    "papermill": {
     "duration": 0.157928,
     "end_time": "2022-03-30T08:53:01.284402",
     "exception": false,
     "start_time": "2022-03-30T08:53:01.126474",
     "status": "completed"
    },
    "tags": []
   },
   "outputs": [],
   "source": [
    "df = pd.read_csv(\"../input/videogamesales/vgsales.csv\")"
   ]
  },
  {
   "cell_type": "markdown",
   "id": "cf132ed2",
   "metadata": {
    "papermill": {
     "duration": 0.021391,
     "end_time": "2022-03-30T08:53:01.328586",
     "exception": false,
     "start_time": "2022-03-30T08:53:01.307195",
     "status": "completed"
    },
    "tags": []
   },
   "source": [
    "### The company that is the most common video game publisher\n",
    "**Answer: Electronic Arts**"
   ]
  },
  {
   "cell_type": "code",
   "execution_count": 3,
   "id": "aa368f37",
   "metadata": {
    "execution": {
     "iopub.execute_input": "2022-03-30T08:53:01.377004Z",
     "iopub.status.busy": "2022-03-30T08:53:01.376191Z",
     "iopub.status.idle": "2022-03-30T08:53:01.397478Z",
     "shell.execute_reply": "2022-03-30T08:53:01.398056Z",
     "shell.execute_reply.started": "2022-03-30T08:52:11.237866Z"
    },
    "papermill": {
     "duration": 0.047774,
     "end_time": "2022-03-30T08:53:01.398269",
     "exception": false,
     "start_time": "2022-03-30T08:53:01.350495",
     "status": "completed"
    },
    "tags": []
   },
   "outputs": [
    {
     "data": {
      "text/plain": [
       "'Electronic Arts'"
      ]
     },
     "execution_count": 3,
     "metadata": {},
     "output_type": "execute_result"
    }
   ],
   "source": [
    "# most  most_common_publisher = df[\"Publisher\"].mode()  -> returns an object\n",
    "most_common_publisher = df[\"Publisher\"].value_counts().idxmax()\n",
    "most_common_publisher"
   ]
  },
  {
   "cell_type": "markdown",
   "id": "8f6a22f2",
   "metadata": {
    "papermill": {
     "duration": 0.022262,
     "end_time": "2022-03-30T08:53:01.443478",
     "exception": false,
     "start_time": "2022-03-30T08:53:01.421216",
     "status": "completed"
    },
    "tags": []
   },
   "source": [
    "### The most common platform\n",
    "**Answer: DS**"
   ]
  },
  {
   "cell_type": "code",
   "execution_count": 4,
   "id": "7255757f",
   "metadata": {
    "execution": {
     "iopub.execute_input": "2022-03-30T08:53:01.494375Z",
     "iopub.status.busy": "2022-03-30T08:53:01.493610Z",
     "iopub.status.idle": "2022-03-30T08:53:01.503213Z",
     "shell.execute_reply": "2022-03-30T08:53:01.503766Z",
     "shell.execute_reply.started": "2022-03-30T08:52:11.372166Z"
    },
    "papermill": {
     "duration": 0.036748,
     "end_time": "2022-03-30T08:53:01.503978",
     "exception": false,
     "start_time": "2022-03-30T08:53:01.467230",
     "status": "completed"
    },
    "tags": []
   },
   "outputs": [
    {
     "data": {
      "text/plain": [
       "'DS'"
      ]
     },
     "execution_count": 4,
     "metadata": {},
     "output_type": "execute_result"
    }
   ],
   "source": [
    "most_common_platform = df[\"Platform\"].value_counts().idxmax()\n",
    "most_common_platform"
   ]
  },
  {
   "cell_type": "markdown",
   "id": "1b29d739",
   "metadata": {
    "papermill": {
     "duration": 0.022074,
     "end_time": "2022-03-30T08:53:01.548757",
     "exception": false,
     "start_time": "2022-03-30T08:53:01.526683",
     "status": "completed"
    },
    "tags": []
   },
   "source": [
    "### The most common genre\n",
    "**Answer: Action**"
   ]
  },
  {
   "cell_type": "code",
   "execution_count": 5,
   "id": "ee224b00",
   "metadata": {
    "execution": {
     "iopub.execute_input": "2022-03-30T08:53:01.598649Z",
     "iopub.status.busy": "2022-03-30T08:53:01.597776Z",
     "iopub.status.idle": "2022-03-30T08:53:01.608923Z",
     "shell.execute_reply": "2022-03-30T08:53:01.608285Z",
     "shell.execute_reply.started": "2022-03-30T08:52:11.500502Z"
    },
    "papermill": {
     "duration": 0.037211,
     "end_time": "2022-03-30T08:53:01.609094",
     "exception": false,
     "start_time": "2022-03-30T08:53:01.571883",
     "status": "completed"
    },
    "tags": []
   },
   "outputs": [
    {
     "data": {
      "text/plain": [
       "'Action'"
      ]
     },
     "execution_count": 5,
     "metadata": {},
     "output_type": "execute_result"
    }
   ],
   "source": [
    "most_common_genre = df[\"Genre\"].value_counts().idxmax()\n",
    "most_common_genre"
   ]
  },
  {
   "cell_type": "markdown",
   "id": "92d3a35e",
   "metadata": {
    "papermill": {
     "duration": 0.023196,
     "end_time": "2022-03-30T08:53:01.655755",
     "exception": false,
     "start_time": "2022-03-30T08:53:01.632559",
     "status": "completed"
    },
    "tags": []
   },
   "source": [
    "### The top 20 highest grossing games\n",
    "**Answer: Top one is Wii Sports with a global sale of 82.74**"
   ]
  },
  {
   "cell_type": "code",
   "execution_count": 6,
   "id": "e4669309",
   "metadata": {
    "execution": {
     "iopub.execute_input": "2022-03-30T08:53:01.709967Z",
     "iopub.status.busy": "2022-03-30T08:53:01.709248Z",
     "iopub.status.idle": "2022-03-30T08:53:01.733301Z",
     "shell.execute_reply": "2022-03-30T08:53:01.733846Z",
     "shell.execute_reply.started": "2022-03-30T08:52:11.635227Z"
    },
    "papermill": {
     "duration": 0.053121,
     "end_time": "2022-03-30T08:53:01.734057",
     "exception": false,
     "start_time": "2022-03-30T08:53:01.680936",
     "status": "completed"
    },
    "tags": []
   },
   "outputs": [
    {
     "data": {
      "text/html": [
       "<div>\n",
       "<style scoped>\n",
       "    .dataframe tbody tr th:only-of-type {\n",
       "        vertical-align: middle;\n",
       "    }\n",
       "\n",
       "    .dataframe tbody tr th {\n",
       "        vertical-align: top;\n",
       "    }\n",
       "\n",
       "    .dataframe thead th {\n",
       "        text-align: right;\n",
       "    }\n",
       "</style>\n",
       "<table border=\"1\" class=\"dataframe\">\n",
       "  <thead>\n",
       "    <tr style=\"text-align: right;\">\n",
       "      <th></th>\n",
       "      <th>Name</th>\n",
       "      <th>Global_Sales</th>\n",
       "    </tr>\n",
       "  </thead>\n",
       "  <tbody>\n",
       "    <tr>\n",
       "      <th>0</th>\n",
       "      <td>Wii Sports</td>\n",
       "      <td>82.74</td>\n",
       "    </tr>\n",
       "    <tr>\n",
       "      <th>1</th>\n",
       "      <td>Super Mario Bros.</td>\n",
       "      <td>40.24</td>\n",
       "    </tr>\n",
       "    <tr>\n",
       "      <th>2</th>\n",
       "      <td>Mario Kart Wii</td>\n",
       "      <td>35.82</td>\n",
       "    </tr>\n",
       "    <tr>\n",
       "      <th>3</th>\n",
       "      <td>Wii Sports Resort</td>\n",
       "      <td>33.00</td>\n",
       "    </tr>\n",
       "    <tr>\n",
       "      <th>4</th>\n",
       "      <td>Pokemon Red/Pokemon Blue</td>\n",
       "      <td>31.37</td>\n",
       "    </tr>\n",
       "    <tr>\n",
       "      <th>5</th>\n",
       "      <td>Tetris</td>\n",
       "      <td>30.26</td>\n",
       "    </tr>\n",
       "    <tr>\n",
       "      <th>6</th>\n",
       "      <td>New Super Mario Bros.</td>\n",
       "      <td>30.01</td>\n",
       "    </tr>\n",
       "    <tr>\n",
       "      <th>7</th>\n",
       "      <td>Wii Play</td>\n",
       "      <td>29.02</td>\n",
       "    </tr>\n",
       "    <tr>\n",
       "      <th>8</th>\n",
       "      <td>New Super Mario Bros. Wii</td>\n",
       "      <td>28.62</td>\n",
       "    </tr>\n",
       "    <tr>\n",
       "      <th>9</th>\n",
       "      <td>Duck Hunt</td>\n",
       "      <td>28.31</td>\n",
       "    </tr>\n",
       "    <tr>\n",
       "      <th>10</th>\n",
       "      <td>Nintendogs</td>\n",
       "      <td>24.76</td>\n",
       "    </tr>\n",
       "    <tr>\n",
       "      <th>11</th>\n",
       "      <td>Mario Kart DS</td>\n",
       "      <td>23.42</td>\n",
       "    </tr>\n",
       "    <tr>\n",
       "      <th>12</th>\n",
       "      <td>Pokemon Gold/Pokemon Silver</td>\n",
       "      <td>23.10</td>\n",
       "    </tr>\n",
       "    <tr>\n",
       "      <th>13</th>\n",
       "      <td>Wii Fit</td>\n",
       "      <td>22.72</td>\n",
       "    </tr>\n",
       "    <tr>\n",
       "      <th>14</th>\n",
       "      <td>Wii Fit Plus</td>\n",
       "      <td>22.00</td>\n",
       "    </tr>\n",
       "    <tr>\n",
       "      <th>15</th>\n",
       "      <td>Kinect Adventures!</td>\n",
       "      <td>21.82</td>\n",
       "    </tr>\n",
       "    <tr>\n",
       "      <th>16</th>\n",
       "      <td>Grand Theft Auto V</td>\n",
       "      <td>21.40</td>\n",
       "    </tr>\n",
       "    <tr>\n",
       "      <th>17</th>\n",
       "      <td>Grand Theft Auto: San Andreas</td>\n",
       "      <td>20.81</td>\n",
       "    </tr>\n",
       "    <tr>\n",
       "      <th>18</th>\n",
       "      <td>Super Mario World</td>\n",
       "      <td>20.61</td>\n",
       "    </tr>\n",
       "    <tr>\n",
       "      <th>19</th>\n",
       "      <td>Brain Age: Train Your Brain in Minutes a Day</td>\n",
       "      <td>20.22</td>\n",
       "    </tr>\n",
       "  </tbody>\n",
       "</table>\n",
       "</div>"
      ],
      "text/plain": [
       "                                            Name  Global_Sales\n",
       "0                                     Wii Sports         82.74\n",
       "1                              Super Mario Bros.         40.24\n",
       "2                                 Mario Kart Wii         35.82\n",
       "3                              Wii Sports Resort         33.00\n",
       "4                       Pokemon Red/Pokemon Blue         31.37\n",
       "5                                         Tetris         30.26\n",
       "6                          New Super Mario Bros.         30.01\n",
       "7                                       Wii Play         29.02\n",
       "8                      New Super Mario Bros. Wii         28.62\n",
       "9                                      Duck Hunt         28.31\n",
       "10                                    Nintendogs         24.76\n",
       "11                                 Mario Kart DS         23.42\n",
       "12                   Pokemon Gold/Pokemon Silver         23.10\n",
       "13                                       Wii Fit         22.72\n",
       "14                                  Wii Fit Plus         22.00\n",
       "15                            Kinect Adventures!         21.82\n",
       "16                            Grand Theft Auto V         21.40\n",
       "17                 Grand Theft Auto: San Andreas         20.81\n",
       "18                             Super Mario World         20.61\n",
       "19  Brain Age: Train Your Brain in Minutes a Day         20.22"
      ]
     },
     "execution_count": 6,
     "metadata": {},
     "output_type": "execute_result"
    }
   ],
   "source": [
    "top_twenty_highest_grossing_games = df[[\"Name\", \"Global_Sales\"]].head(20)\n",
    "top_twenty_highest_grossing_games\n"
   ]
  },
  {
   "cell_type": "markdown",
   "id": "60d9c2b9",
   "metadata": {
    "papermill": {
     "duration": 0.02379,
     "end_time": "2022-03-30T08:53:01.782075",
     "exception": false,
     "start_time": "2022-03-30T08:53:01.758285",
     "status": "completed"
    },
    "tags": []
   },
   "source": [
    "### The median of North America sales\n",
    "**Answer: 0.08**\n",
    "\n",
    "- Ten games surrounding the median sales output, the order of games is descending.\n",
    "\n",
    "**Answer:**\n",
    "1. Dragon Warrior IV\n",
    "2. World Soccer Winning Eleven 7 International\n",
    "3. Farming Simulator 2015\n",
    "4. Pro Evolution Soccer 2008\n",
    "5. Winning Eleven: Pro Evolution Soccer 2007 \n",
    "6. Phantasy Star Portable 2\n",
    "7. The Sims 2: Castaway\n",
    "8. SingStar Queen\n",
    "9. Top Spin 3\n",
    "10. Sonic & All-Stars Racing Transformed\n"
   ]
  },
  {
   "cell_type": "code",
   "execution_count": 7,
   "id": "6bc8caf2",
   "metadata": {
    "execution": {
     "iopub.execute_input": "2022-03-30T08:53:01.835232Z",
     "iopub.status.busy": "2022-03-30T08:53:01.834069Z",
     "iopub.status.idle": "2022-03-30T08:53:01.849665Z",
     "shell.execute_reply": "2022-03-30T08:53:01.850286Z",
     "shell.execute_reply.started": "2022-03-30T08:52:11.772890Z"
    },
    "papermill": {
     "duration": 0.044334,
     "end_time": "2022-03-30T08:53:01.850492",
     "exception": false,
     "start_time": "2022-03-30T08:53:01.806158",
     "status": "completed"
    },
    "tags": []
   },
   "outputs": [
    {
     "data": {
      "text/html": [
       "<div>\n",
       "<style scoped>\n",
       "    .dataframe tbody tr th:only-of-type {\n",
       "        vertical-align: middle;\n",
       "    }\n",
       "\n",
       "    .dataframe tbody tr th {\n",
       "        vertical-align: top;\n",
       "    }\n",
       "\n",
       "    .dataframe thead th {\n",
       "        text-align: right;\n",
       "    }\n",
       "</style>\n",
       "<table border=\"1\" class=\"dataframe\">\n",
       "  <thead>\n",
       "    <tr style=\"text-align: right;\">\n",
       "      <th></th>\n",
       "      <th>Name</th>\n",
       "      <th>NA_Sales</th>\n",
       "    </tr>\n",
       "  </thead>\n",
       "  <tbody>\n",
       "    <tr>\n",
       "      <th>446</th>\n",
       "      <td>Dragon Warrior IV</td>\n",
       "      <td>0.08</td>\n",
       "    </tr>\n",
       "    <tr>\n",
       "      <th>497</th>\n",
       "      <td>World Soccer Winning Eleven 7 International</td>\n",
       "      <td>0.08</td>\n",
       "    </tr>\n",
       "    <tr>\n",
       "      <th>1617</th>\n",
       "      <td>Farming Simulator 2015</td>\n",
       "      <td>0.08</td>\n",
       "    </tr>\n",
       "    <tr>\n",
       "      <th>1926</th>\n",
       "      <td>Pro Evolution Soccer 2008</td>\n",
       "      <td>0.08</td>\n",
       "    </tr>\n",
       "    <tr>\n",
       "      <th>2067</th>\n",
       "      <td>Winning Eleven: Pro Evolution Soccer 2007 (All...</td>\n",
       "      <td>0.08</td>\n",
       "    </tr>\n",
       "    <tr>\n",
       "      <th>2373</th>\n",
       "      <td>Phantasy Star Portable 2</td>\n",
       "      <td>0.08</td>\n",
       "    </tr>\n",
       "    <tr>\n",
       "      <th>2579</th>\n",
       "      <td>The Sims 2: Castaway</td>\n",
       "      <td>0.08</td>\n",
       "    </tr>\n",
       "    <tr>\n",
       "      <th>3186</th>\n",
       "      <td>SingStar Queen</td>\n",
       "      <td>0.08</td>\n",
       "    </tr>\n",
       "    <tr>\n",
       "      <th>3503</th>\n",
       "      <td>Top Spin 3</td>\n",
       "      <td>0.08</td>\n",
       "    </tr>\n",
       "    <tr>\n",
       "      <th>3703</th>\n",
       "      <td>Sonic &amp; All-Stars Racing Transformed</td>\n",
       "      <td>0.08</td>\n",
       "    </tr>\n",
       "  </tbody>\n",
       "</table>\n",
       "</div>"
      ],
      "text/plain": [
       "                                                   Name  NA_Sales\n",
       "446                                   Dragon Warrior IV      0.08\n",
       "497         World Soccer Winning Eleven 7 International      0.08\n",
       "1617                             Farming Simulator 2015      0.08\n",
       "1926                          Pro Evolution Soccer 2008      0.08\n",
       "2067  Winning Eleven: Pro Evolution Soccer 2007 (All...      0.08\n",
       "2373                           Phantasy Star Portable 2      0.08\n",
       "2579                               The Sims 2: Castaway      0.08\n",
       "3186                                     SingStar Queen      0.08\n",
       "3503                                         Top Spin 3      0.08\n",
       "3703               Sonic & All-Stars Racing Transformed      0.08"
      ]
     },
     "execution_count": 7,
     "metadata": {},
     "output_type": "execute_result"
    }
   ],
   "source": [
    "na_median_sales = df[\"NA_Sales\"].median()\n",
    "ten_median_na_seller_names = df[df[\"NA_Sales\"] == na_median_sales].head(10)\n",
    "ten_median_na_seller_names[[\"Name\", \"NA_Sales\"]]"
   ]
  },
  {
   "cell_type": "markdown",
   "id": "45e49c59",
   "metadata": {
    "papermill": {
     "duration": 0.023828,
     "end_time": "2022-03-30T08:53:01.898552",
     "exception": false,
     "start_time": "2022-03-30T08:53:01.874724",
     "status": "completed"
    },
    "tags": []
   },
   "source": [
    "### Number of standard daviatoins are above/below the mean of North America sales for the top-saling game\n",
    "\n",
    "**Answer:**\n",
    "1. value of north sales for the top selling game= 41.49\n",
    "2. mean of north sales= 0.26466742981084057\n",
    "3. standard daviation of north sales= 0.8166830292990428\n",
    "\n",
    "Final answer = 50.47898767478096."
   ]
  },
  {
   "cell_type": "markdown",
   "id": "e6898199",
   "metadata": {
    "papermill": {
     "duration": 0.023802,
     "end_time": "2022-03-30T08:53:01.946497",
     "exception": false,
     "start_time": "2022-03-30T08:53:01.922695",
     "status": "completed"
    },
    "tags": []
   },
   "source": []
  },
  {
   "cell_type": "code",
   "execution_count": 8,
   "id": "7873293b",
   "metadata": {
    "execution": {
     "iopub.execute_input": "2022-03-30T08:53:02.001064Z",
     "iopub.status.busy": "2022-03-30T08:53:02.000005Z",
     "iopub.status.idle": "2022-03-30T08:53:02.009883Z",
     "shell.execute_reply": "2022-03-30T08:53:02.010487Z",
     "shell.execute_reply.started": "2022-03-30T08:52:11.893807Z"
    },
    "papermill": {
     "duration": 0.038785,
     "end_time": "2022-03-30T08:53:02.010689",
     "exception": false,
     "start_time": "2022-03-30T08:53:01.971904",
     "status": "completed"
    },
    "tags": []
   },
   "outputs": [
    {
     "data": {
      "text/plain": [
       "50.47898767478096"
      ]
     },
     "execution_count": 8,
     "metadata": {},
     "output_type": "execute_result"
    }
   ],
   "source": [
    "NA_top_selling_game = df.head(1) \n",
    "NA_top_selling_game = NA_top_selling_game[\"NA_Sales\"].sum()\n",
    "NA_top_selling_game\n",
    "\n",
    "NA_mean_sales = df[\"NA_Sales\"].mean()\n",
    "NA_mean_sales\n",
    "\n",
    "NA_std_sales = df[\"NA_Sales\"].std()\n",
    "NA_std_sales\n",
    "\n",
    "\n",
    "z_score = (NA_top_selling_game - NA_mean_sales) / NA_std_sales\n",
    "z_score"
   ]
  },
  {
   "cell_type": "markdown",
   "id": "26cceaf3",
   "metadata": {
    "papermill": {
     "duration": 0.024545,
     "end_time": "2022-03-30T08:53:02.060287",
     "exception": false,
     "start_time": "2022-03-30T08:53:02.035742",
     "status": "completed"
    },
    "tags": []
   },
   "source": [
    "### Average number of sales for Wii comparing with all of the other platforms\n",
    "**Answe: average sales of Wii is 0.6994 while the average number of sales for all platforms gathered is 0.5374**"
   ]
  },
  {
   "cell_type": "code",
   "execution_count": 9,
   "id": "e5c4aa37",
   "metadata": {
    "execution": {
     "iopub.execute_input": "2022-03-30T08:53:02.120750Z",
     "iopub.status.busy": "2022-03-30T08:53:02.120014Z",
     "iopub.status.idle": "2022-03-30T08:53:02.126977Z",
     "shell.execute_reply": "2022-03-30T08:53:02.127532Z",
     "shell.execute_reply.started": "2022-03-30T08:52:12.021735Z"
    },
    "papermill": {
     "duration": 0.041483,
     "end_time": "2022-03-30T08:53:02.127729",
     "exception": false,
     "start_time": "2022-03-30T08:53:02.086246",
     "status": "completed"
    },
    "tags": []
   },
   "outputs": [
    {
     "data": {
      "text/plain": [
       "0.53744065550074"
      ]
     },
     "execution_count": 9,
     "metadata": {},
     "output_type": "execute_result"
    }
   ],
   "source": [
    "avg_sales_Wii = df[df[\"Platform\"] == \"Wii\"]\n",
    "avg_sales_Wii[\"Global_Sales\"].mean()\n",
    "\n",
    "platforms = df[\"Global_Sales\"].mean()\n",
    "platforms"
   ]
  },
  {
   "cell_type": "markdown",
   "id": "33ff3466",
   "metadata": {
    "papermill": {
     "duration": 0.024748,
     "end_time": "2022-03-30T08:53:02.177916",
     "exception": false,
     "start_time": "2022-03-30T08:53:02.153168",
     "status": "completed"
    },
    "tags": []
   },
   "source": [
    "## other questions\n",
    "### Years of when Super Mario Bros games were published\n",
    "**Answer: 1985 and 1999**"
   ]
  },
  {
   "cell_type": "code",
   "execution_count": 10,
   "id": "c5010639",
   "metadata": {
    "execution": {
     "iopub.execute_input": "2022-03-30T08:53:02.232112Z",
     "iopub.status.busy": "2022-03-30T08:53:02.231431Z",
     "iopub.status.idle": "2022-03-30T08:53:02.242666Z",
     "shell.execute_reply": "2022-03-30T08:53:02.243142Z",
     "shell.execute_reply.started": "2022-03-30T08:52:12.140521Z"
    },
    "papermill": {
     "duration": 0.040186,
     "end_time": "2022-03-30T08:53:02.243343",
     "exception": false,
     "start_time": "2022-03-30T08:53:02.203157",
     "status": "completed"
    },
    "tags": []
   },
   "outputs": [
    {
     "data": {
      "text/plain": [
       "1      1985.0\n",
       "200    1999.0\n",
       "Name: Year, dtype: float64"
      ]
     },
     "execution_count": 10,
     "metadata": {},
     "output_type": "execute_result"
    }
   ],
   "source": [
    "super_mario_bros = df[df[\"Name\"] == \"Super Mario Bros.\"].Year\n",
    "super_mario_bros"
   ]
  },
  {
   "cell_type": "markdown",
   "id": "618ff050",
   "metadata": {
    "papermill": {
     "duration": 0.025297,
     "end_time": "2022-03-30T08:53:02.294419",
     "exception": false,
     "start_time": "2022-03-30T08:53:02.269122",
     "status": "completed"
    },
    "tags": []
   },
   "source": [
    "## other questions\n",
    "### The mean Europe sales for all games published by (Nintendo)\n",
    "**Answer: 0.5956472261735423**"
   ]
  },
  {
   "cell_type": "code",
   "execution_count": 11,
   "id": "4913bbfe",
   "metadata": {
    "execution": {
     "iopub.execute_input": "2022-03-30T08:53:02.350475Z",
     "iopub.status.busy": "2022-03-30T08:53:02.349254Z",
     "iopub.status.idle": "2022-03-30T08:53:02.360186Z",
     "shell.execute_reply": "2022-03-30T08:53:02.360759Z",
     "shell.execute_reply.started": "2022-03-30T08:52:12.212868Z"
    },
    "papermill": {
     "duration": 0.040782,
     "end_time": "2022-03-30T08:53:02.360986",
     "exception": false,
     "start_time": "2022-03-30T08:53:02.320204",
     "status": "completed"
    },
    "tags": []
   },
   "outputs": [
    {
     "data": {
      "text/plain": [
       "0.5956472261735423"
      ]
     },
     "execution_count": 11,
     "metadata": {},
     "output_type": "execute_result"
    }
   ],
   "source": [
    "pub_Nintendo = df[df[\"Publisher\"] == \"Nintendo\"]\n",
    "pub_Nintendo = pub_Nintendo[\"EU_Sales\"].mean()\n",
    "pub_Nintendo"
   ]
  },
  {
   "cell_type": "markdown",
   "id": "b4229217",
   "metadata": {
    "papermill": {
     "duration": 0.025768,
     "end_time": "2022-03-30T08:53:02.413594",
     "exception": false,
     "start_time": "2022-03-30T08:53:02.387826",
     "status": "completed"
    },
    "tags": []
   },
   "source": [
    "## other questions\n",
    "### The least common genre.\n",
    "**Answer: Puzzle**"
   ]
  },
  {
   "cell_type": "code",
   "execution_count": 12,
   "id": "74e119cf",
   "metadata": {
    "execution": {
     "iopub.execute_input": "2022-03-30T08:53:02.475983Z",
     "iopub.status.busy": "2022-03-30T08:53:02.475218Z",
     "iopub.status.idle": "2022-03-30T08:53:02.478044Z",
     "shell.execute_reply": "2022-03-30T08:53:02.478547Z",
     "shell.execute_reply.started": "2022-03-30T08:52:12.247312Z"
    },
    "papermill": {
     "duration": 0.039155,
     "end_time": "2022-03-30T08:53:02.478740",
     "exception": false,
     "start_time": "2022-03-30T08:53:02.439585",
     "status": "completed"
    },
    "tags": []
   },
   "outputs": [
    {
     "data": {
      "text/plain": [
       "'Puzzle'"
      ]
     },
     "execution_count": 12,
     "metadata": {},
     "output_type": "execute_result"
    }
   ],
   "source": [
    "least_common_genre = df[\"Genre\"].value_counts().idxmin()\n",
    "least_common_genre"
   ]
  },
  {
   "cell_type": "markdown",
   "id": "914da281",
   "metadata": {
    "papermill": {
     "duration": 0.026936,
     "end_time": "2022-03-30T08:53:02.532706",
     "exception": false,
     "start_time": "2022-03-30T08:53:02.505770",
     "status": "completed"
    },
    "tags": []
   },
   "source": [
    "### Tests"
   ]
  },
  {
   "cell_type": "code",
   "execution_count": 13,
   "id": "413d529e",
   "metadata": {
    "execution": {
     "iopub.execute_input": "2022-03-30T08:53:02.590941Z",
     "iopub.status.busy": "2022-03-30T08:53:02.589974Z",
     "iopub.status.idle": "2022-03-30T08:53:02.600741Z",
     "shell.execute_reply": "2022-03-30T08:53:02.601383Z",
     "shell.execute_reply.started": "2022-03-30T08:52:12.380375Z"
    },
    "papermill": {
     "duration": 0.041672,
     "end_time": "2022-03-30T08:53:02.601619",
     "exception": false,
     "start_time": "2022-03-30T08:53:02.559947",
     "status": "completed"
    },
    "tags": []
   },
   "outputs": [
    {
     "name": "stdout",
     "output_type": "stream",
     "text": [
      "Success!!!\n"
     ]
    }
   ],
   "source": [
    "def test():\n",
    "\n",
    "\n",
    "    def assert_equal(actual,expected):\n",
    "    \n",
    "        assert actual == expected, f\"Expected {expected} but got {actual}\"\n",
    "\n",
    "    assert_equal(most_common_publisher, 'Electronic Arts')\n",
    "    assert_equal(most_common_platform, 'DS')\n",
    "    assert_equal(most_common_genre, 'Action')\n",
    "    assert_equal(top_twenty_highest_grossing_games.iloc[0].Name, 'Wii Sports')\n",
    "    assert_equal(top_twenty_highest_grossing_games.iloc[19].Name, 'Brain Age: Train Your Brain in Minutes a Day')\n",
    "    assert_equal(na_median_sales, 0.08)\n",
    "    assert_equal(ten_median_na_seller_names.iloc[0].Name, \"Dragon Warrior IV\")\n",
    "    assert_equal(ten_median_na_seller_names.iloc[1].Name, \"World Soccer Winning Eleven 7 International\")\n",
    "   \n",
    "    assert_equal(super_mario_bros.iloc[0], 1985.0 )\n",
    "    assert_equal(super_mario_bros.iloc[1], 1999.0 )\n",
    "    assert_equal(pub_Nintendo, 0.5956472261735423 )\n",
    "    assert_equal(least_common_genre, 'Puzzle' )\n",
    "\n",
    "    \n",
    "\n",
    "\n",
    "    \n",
    "\n",
    "    print(\"Success!!!\")\n",
    "test()\n"
   ]
  }
 ],
 "metadata": {
  "kernelspec": {
   "display_name": "Python 3",
   "language": "python",
   "name": "python3"
  },
  "language_info": {
   "codemirror_mode": {
    "name": "ipython",
    "version": 3
   },
   "file_extension": ".py",
   "mimetype": "text/x-python",
   "name": "python",
   "nbconvert_exporter": "python",
   "pygments_lexer": "ipython3",
   "version": "3.7.12"
  },
  "papermill": {
   "default_parameters": {},
   "duration": 13.907993,
   "end_time": "2022-03-30T08:53:03.544113",
   "environment_variables": {},
   "exception": null,
   "input_path": "__notebook__.ipynb",
   "output_path": "__notebook__.ipynb",
   "parameters": {},
   "start_time": "2022-03-30T08:52:49.636120",
   "version": "2.3.3"
  }
 },
 "nbformat": 4,
 "nbformat_minor": 5
}
